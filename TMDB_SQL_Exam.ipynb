{
 "cells": [
  {
   "cell_type": "markdown",
   "id": "bf17eebd",
   "metadata": {},
   "source": [
    "<div align=\"right\" style=\" font-size: 80%; text-align: center; margin: 0 auto\">\n",
    "<img\n",
    " src=\"https://raw.githubusercontent.com/Explore-AI/Pictures/master/alx-courses/aice/assets/Content_page_banner_blue_dots.png\"\n",
    " alt=\"ALX Content Header\"\n",
    " class=\"full-width-image\"\n",
    "/>\n",
    "</div>"
   ]
  },
  {
   "cell_type": "markdown",
   "id": "f662d169",
   "metadata": {},
   "source": [
    "# SQL Exam"
   ]
  },
  {
   "cell_type": "markdown",
   "id": "26af890c",
   "metadata": {},
   "source": [
    "## Instructions to students\n",
    "\n",
    "This challenge is designed to determine how much you have learned so far and will test your knowledge on SQL.\n",
    "\n",
    "The answers for this challenge should be selected on Athena for each corresponding multiple-choice question. The questions are included in this notebook and are numbered according to the Athena questions. The options for each question have also been included.\n",
    "\n",
    "Do not add or remove cells in this notebook. Do not edit or remove the `%%sql` comment as it is required to run each cell.\n",
    "\n",
    "**_Good luck!_**"
   ]
  },
  {
   "cell_type": "markdown",
   "id": "b6bdd20c",
   "metadata": {},
   "source": [
    "## The TMDb database\n",
    "\n",
    "In this supplementary exam, you will be exploring [The Movie Database](https://www.themoviedb.org/) – an online movie and TV show database that houses some of the most popular movies and TV shows at your fingertips. The TMDb database supports 39 official languages used in over 180 countries daily and dates back all the way to 2008. \n",
    "\n",
    "\n",
    "<img src=\"https://github.com/Explore-AI/Pictures/blob/master/sql_tmdb.jpg?raw=true\" width=80%/>\n",
    "\n",
    "\n",
    "Below is an Entity Relationship Diagram (ERD) of the TMDb database:\n",
    "\n",
    "<img src=\"https://github.com/Explore-AI/Pictures/blob/master/TMDB_ER_diagram.png?raw=true\" width=70%/>\n",
    "\n",
    "As can be seen from the ERD, the TMDb database consists of `12 tables` containing information about movies, cast, genre, and so much more.  \n",
    "\n",
    "Let's get started!"
   ]
  },
  {
   "cell_type": "markdown",
   "id": "5a0b7683",
   "metadata": {
    "tags": []
   },
   "source": [
    "## Loading the database\n",
    "\n",
    "Before you begin, you need to prepare your SQL environment.  You can do this by loading the magic command `%load_ext sql`."
   ]
  },
  {
   "cell_type": "code",
   "execution_count": null,
   "id": "7475bb62-631e-4d82-9c4b-84c883271c3e",
   "metadata": {},
   "outputs": [],
   "source": [
    "!pip install pymysql\n",
    "!pip install ipython-sql==0.4.1 prettytable==0.7.2\n",
    "!pip install SQLAlchemy==1.4.49"
   ]
  },
  {
   "cell_type": "code",
   "execution_count": 2,
   "id": "0f34ea72",
   "metadata": {},
   "outputs": [],
   "source": [
    "# Load and activate the SQL extension to allow us to execute SQL in a Jupyter notebook. \n",
    "# If you get an error here, make sure that mysql and pymysql are installed correctly. \n",
    "\n",
    "%load_ext sql"
   ]
  },
  {
   "cell_type": "markdown",
   "id": "3f78b691",
   "metadata": {},
   "source": [
    "Next, go ahead and load your database. To do this, you will need to ensure you have downloaded the `TMDB.db` sqlite file from Athena and have stored it in a known location."
   ]
  },
  {
   "cell_type": "code",
   "execution_count": 4,
   "id": "d279a04d",
   "metadata": {},
   "outputs": [],
   "source": [
    "# Establish a connection to the local database using the '%sql' magic command.\n",
    "# Replace 'password' with our connection password and `db_name` with our database name. \n",
    "# If you get an error here, please make sure the database name or password is correct.\n",
    "\n",
    "%sql sqlite:///TMDB.db"
   ]
  },
  {
   "cell_type": "code",
   "execution_count": 5,
   "id": "01f9ae0d-2944-4b37-b471-cc1918ce5e3e",
   "metadata": {},
   "outputs": [
    {
     "name": "stdout",
     "output_type": "stream",
     "text": [
      " * sqlite:///TMDB.db\n",
      "Done.\n"
     ]
    },
    {
     "data": {
      "text/html": [
       "<table>\n",
       "    <tr>\n",
       "        <th>name</th>\n",
       "    </tr>\n",
       "    <tr>\n",
       "        <td>actors</td>\n",
       "    </tr>\n",
       "    <tr>\n",
       "        <td>casts</td>\n",
       "    </tr>\n",
       "    <tr>\n",
       "        <td>genremap</td>\n",
       "    </tr>\n",
       "    <tr>\n",
       "        <td>genres</td>\n",
       "    </tr>\n",
       "    <tr>\n",
       "        <td>keywordmap</td>\n",
       "    </tr>\n",
       "    <tr>\n",
       "        <td>keywords</td>\n",
       "    </tr>\n",
       "    <tr>\n",
       "        <td>languagemap</td>\n",
       "    </tr>\n",
       "    <tr>\n",
       "        <td>languages</td>\n",
       "    </tr>\n",
       "    <tr>\n",
       "        <td>movies</td>\n",
       "    </tr>\n",
       "    <tr>\n",
       "        <td>oscars</td>\n",
       "    </tr>\n",
       "    <tr>\n",
       "        <td>productioncompanies</td>\n",
       "    </tr>\n",
       "    <tr>\n",
       "        <td>productioncompanymap</td>\n",
       "    </tr>\n",
       "    <tr>\n",
       "        <td>productioncountries</td>\n",
       "    </tr>\n",
       "    <tr>\n",
       "        <td>productioncountrymap</td>\n",
       "    </tr>\n",
       "    <tr>\n",
       "        <td>sysdiagrams</td>\n",
       "    </tr>\n",
       "</table>"
      ],
      "text/plain": [
       "[('actors',),\n",
       " ('casts',),\n",
       " ('genremap',),\n",
       " ('genres',),\n",
       " ('keywordmap',),\n",
       " ('keywords',),\n",
       " ('languagemap',),\n",
       " ('languages',),\n",
       " ('movies',),\n",
       " ('oscars',),\n",
       " ('productioncompanies',),\n",
       " ('productioncompanymap',),\n",
       " ('productioncountries',),\n",
       " ('productioncountrymap',),\n",
       " ('sysdiagrams',)]"
      ]
     },
     "execution_count": 5,
     "metadata": {},
     "output_type": "execute_result"
    }
   ],
   "source": [
    "%%sql\n",
    "SELECT name \n",
    "FROM sqlite_master \n",
    "WHERE type='table';"
   ]
  },
  {
   "cell_type": "code",
   "execution_count": 39,
   "id": "9f236bfc-9797-452f-8a16-c49a7cf4ac30",
   "metadata": {},
   "outputs": [
    {
     "name": "stdout",
     "output_type": "stream",
     "text": [
      " * sqlite:///TMDB.db\n",
      "Done.\n"
     ]
    },
    {
     "data": {
      "text/html": [
       "<table>\n",
       "    <tr>\n",
       "        <th>cid</th>\n",
       "        <th>name</th>\n",
       "        <th>type</th>\n",
       "        <th>notnull</th>\n",
       "        <th>dflt_value</th>\n",
       "        <th>pk</th>\n",
       "    </tr>\n",
       "    <tr>\n",
       "        <td>0</td>\n",
       "        <td>keyword_id</td>\n",
       "        <td>INTEGER</td>\n",
       "        <td>1</td>\n",
       "        <td>None</td>\n",
       "        <td>1</td>\n",
       "    </tr>\n",
       "    <tr>\n",
       "        <td>1</td>\n",
       "        <td>keyword_name</td>\n",
       "        <td>varchar(500)</td>\n",
       "        <td>0</td>\n",
       "        <td>NULL</td>\n",
       "        <td>0</td>\n",
       "    </tr>\n",
       "</table>"
      ],
      "text/plain": [
       "[(0, 'keyword_id', 'INTEGER', 1, None, 1),\n",
       " (1, 'keyword_name', 'varchar(500)', 0, 'NULL', 0)]"
      ]
     },
     "execution_count": 39,
     "metadata": {},
     "output_type": "execute_result"
    }
   ],
   "source": [
    "%%sql\n",
    "PRAGMA table_info(keywords);"
   ]
  },
  {
   "cell_type": "markdown",
   "id": "6f8bbc0b-c31c-4274-ad13-399a9182a260",
   "metadata": {},
   "source": [
    "If the above line didn't throw out any errors, then you should be good to go. Good luck with the exam! "
   ]
  },
  {
   "cell_type": "markdown",
   "id": "f5ed5285",
   "metadata": {},
   "source": [
    "## Questions on SQL\n",
    "\n",
    "Use the given cell below each question to execute your SQL queries to find the correct input from the options provided. Your solution should match one of the multiple-choice questions on Athena."
   ]
  },
  {
   "cell_type": "markdown",
   "id": "86802726",
   "metadata": {},
   "source": [
    "### Question 1\n",
    "\n",
    "Who won the Oscar for “Actor in a Leading Role” in  2015?\n",
    "\n",
    "(Hint: The winner is indicated as '1.0'.)\n",
    "\n",
    "**Options:** \n",
    "\n",
    "  - Micheal Fassbender\n",
    "  - Natalie Portman\n",
    "  - Leonardo DiCaprio\n",
    "  - Eddie Redmayne\n"
   ]
  },
  {
   "cell_type": "code",
   "execution_count": 31,
   "id": "91f3421f",
   "metadata": {},
   "outputs": [
    {
     "name": "stdout",
     "output_type": "stream",
     "text": [
      " * sqlite:///TMDB.db\n",
      "Done.\n"
     ]
    },
    {
     "data": {
      "text/html": [
       "<table>\n",
       "    <tr>\n",
       "        <th>name</th>\n",
       "    </tr>\n",
       "    <tr>\n",
       "        <td>Leonardo DiCaprio</td>\n",
       "    </tr>\n",
       "</table>"
      ],
      "text/plain": [
       "[('Leonardo DiCaprio',)]"
      ]
     },
     "execution_count": 31,
     "metadata": {},
     "output_type": "execute_result"
    }
   ],
   "source": [
    "%%sql\n",
    "---Add your code here\n",
    "SELECT name \n",
    "FROM oscars \n",
    "WHERE award = 'Actor in a Leading Role' \n",
    "  AND year = 2015 \n",
    "  AND winner = 1.0;"
   ]
  },
  {
   "cell_type": "markdown",
   "id": "9545206c",
   "metadata": {},
   "source": [
    "### Question 2\n",
    "\n",
    "What query will produce the ten oldest movies in the database?\n",
    "\n",
    "**Options:**\n",
    "\n",
    " - SELECT TOP(10) * FROM movies WHERE release_date ORDER BY release_date ASC\n",
    "\n",
    " - SELECT  * FROM movies WHERE release_date IS NOT NULL ORDER BY release_date ASC LIMIT 10\n",
    "\n",
    " - SELECT * FROM movies WHERE release_date IS NOT NULL ORDER BY release_date DESC LIMIT 10\n",
    "\n",
    " -  SELECT * FROM movies WHERE release_date IS NULL ORDER BY release_date DESC LIMIT 10"
   ]
  },
  {
   "cell_type": "code",
   "execution_count": 32,
   "id": "748f4263",
   "metadata": {},
   "outputs": [
    {
     "name": "stdout",
     "output_type": "stream",
     "text": [
      " * sqlite:///TMDB.db\n",
      "Done.\n"
     ]
    },
    {
     "data": {
      "text/html": [
       "<table>\n",
       "    <tr>\n",
       "        <th>movie_id</th>\n",
       "        <th>title</th>\n",
       "        <th>release_date</th>\n",
       "        <th>budget</th>\n",
       "        <th>homepage</th>\n",
       "        <th>original_language</th>\n",
       "        <th>original_title</th>\n",
       "        <th>overview</th>\n",
       "        <th>popularity</th>\n",
       "        <th>revenue</th>\n",
       "        <th>runtime</th>\n",
       "        <th>release_status</th>\n",
       "        <th>tagline</th>\n",
       "        <th>vote_average</th>\n",
       "        <th>vote_count</th>\n",
       "    </tr>\n",
       "    <tr>\n",
       "        <td>3059</td>\n",
       "        <td>Intolerance</td>\n",
       "        <td>1916-09-04 00:00:00.000000</td>\n",
       "        <td>385907</td>\n",
       "        <td>None</td>\n",
       "        <td>en</td>\n",
       "        <td>Intolerance</td>\n",
       "        <td>The story of a poor young woman, separated by prejudice from her husband and baby, is interwoven with tales of intolerance from throughout history.</td>\n",
       "        <td>3.232447</td>\n",
       "        <td>8394751.0</td>\n",
       "        <td>197.0</td>\n",
       "        <td>Released</td>\n",
       "        <td>The Cruel Hand of Intolerance</td>\n",
       "        <td>7.4</td>\n",
       "        <td>60</td>\n",
       "    </tr>\n",
       "    <tr>\n",
       "        <td>3060</td>\n",
       "        <td>The Big Parade</td>\n",
       "        <td>1925-11-05 00:00:00.000000</td>\n",
       "        <td>245000</td>\n",
       "        <td>None</td>\n",
       "        <td>en</td>\n",
       "        <td>The Big Parade</td>\n",
       "        <td>The story of an idle rich boy who joins the US Army&#x27;s Rainbow Division and is sent to France to fight in World War I, becomes friends with two working class men, experiences the horrors of trench warfare, and finds love with a French girl.</td>\n",
       "        <td>0.785744</td>\n",
       "        <td>22000000.0</td>\n",
       "        <td>151.0</td>\n",
       "        <td>Released</td>\n",
       "        <td>None</td>\n",
       "        <td>7.0</td>\n",
       "        <td>21</td>\n",
       "    </tr>\n",
       "    <tr>\n",
       "        <td>19</td>\n",
       "        <td>Metropolis</td>\n",
       "        <td>1927-01-10 00:00:00.000000</td>\n",
       "        <td>92620000</td>\n",
       "        <td>None</td>\n",
       "        <td>de</td>\n",
       "        <td>Metropolis</td>\n",
       "        <td>In a futuristic city sharply divided between the working class and the city planners, the son of the city&#x27;s mastermind falls in love with a working class prophet who predicts the coming of a savior to mediate their differences.</td>\n",
       "        <td>32.351527</td>\n",
       "        <td>650422.0</td>\n",
       "        <td>153.0</td>\n",
       "        <td>Released</td>\n",
       "        <td>There can be no understanding between the hands and the brain unless the heart acts as mediator.</td>\n",
       "        <td>8.0</td>\n",
       "        <td>657</td>\n",
       "    </tr>\n",
       "    <tr>\n",
       "        <td>905</td>\n",
       "        <td>Pandora&#x27;s Box</td>\n",
       "        <td>1929-01-30 00:00:00.000000</td>\n",
       "        <td>0</td>\n",
       "        <td>None</td>\n",
       "        <td>de</td>\n",
       "        <td>Die Bnchse der Pandora</td>\n",
       "        <td>The rise and inevitable fall of an amoral but naive young woman whose insouciant eroticism inspires lust and violence in those around her.</td>\n",
       "        <td>1.824184</td>\n",
       "        <td>0.0</td>\n",
       "        <td>109.0</td>\n",
       "        <td>Released</td>\n",
       "        <td>None</td>\n",
       "        <td>7.6</td>\n",
       "        <td>45</td>\n",
       "    </tr>\n",
       "    <tr>\n",
       "        <td>65203</td>\n",
       "        <td>The Broadway Melody</td>\n",
       "        <td>1929-02-08 00:00:00.000000</td>\n",
       "        <td>379000</td>\n",
       "        <td>None</td>\n",
       "        <td>en</td>\n",
       "        <td>The Broadway Melody</td>\n",
       "        <td>Harriet and Queenie Mahoney, a vaudeville act, come to Broadway, where their friend Eddie Kerns needs them for his number in one of Francis Zanfield&#x27;s shows. Eddie was in love with Harriet, but when he meets Queenie, he falls in love to her, but she is courted by Jock Warriner, a member of the New Yorker high society. It takes a while till Queenie recognizes, that she is for Jock nothing more than a toy, and it also takes a while till Harriet recognizes, that Eddie is in love with Queenie</td>\n",
       "        <td>0.968865</td>\n",
       "        <td>4358000.0</td>\n",
       "        <td>100.0</td>\n",
       "        <td>Released</td>\n",
       "        <td>The pulsating drama of Broadway&#x27;s bared heart speaks and sings with a voice to stir your soul!</td>\n",
       "        <td>5.0</td>\n",
       "        <td>19</td>\n",
       "    </tr>\n",
       "    <tr>\n",
       "        <td>22301</td>\n",
       "        <td>Hell&#x27;s Angels</td>\n",
       "        <td>1930-11-15 00:00:00.000000</td>\n",
       "        <td>3950000</td>\n",
       "        <td>None</td>\n",
       "        <td>en</td>\n",
       "        <td>Hell&#x27;s Angels</td>\n",
       "        <td>Two brothers attending Oxford enlist with the Royal Flying Corps when World War I breaks out. Roy and Monte Rutledge have very different personalities. Monte is a freewheeling womanizer, even with his brother&#x27;s girlfriend Helen. He also proves to have a yellow streak when it comes to his Night Patrol duties. Roy is made of strong moral fiber and attempts to keep his brother in line. Both volunteer for an extremely risky two man bombing mission for different reasons. Monte wants to lose his cowardly reputation and Roy seeks to protect his brother. Roy loves Helen; Helen enjoys an affair with Monte; before they leave on their mission over Germany they find her in still another man&#x27;s arms.  Their assignment to knock out a strategic German munitions facility is a booming success, but with a squadron of fighters bearing down on them afterwards, escape seems unlikely.</td>\n",
       "        <td>8.484123</td>\n",
       "        <td>8000000.0</td>\n",
       "        <td>127.0</td>\n",
       "        <td>Released</td>\n",
       "        <td>Howard Hughes&#x27; Thrilling Multi-Million Dollar Air Spectacle</td>\n",
       "        <td>6.1</td>\n",
       "        <td>19</td>\n",
       "    </tr>\n",
       "    <tr>\n",
       "        <td>22649</td>\n",
       "        <td>A Farewell to Arms</td>\n",
       "        <td>1932-12-08 00:00:00.000000</td>\n",
       "        <td>4</td>\n",
       "        <td>None</td>\n",
       "        <td>en</td>\n",
       "        <td>A Farewell to Arms</td>\n",
       "        <td>British nurse Catherine Barkley (Helen Hayes) and American Lieutenant Frederic Henry (Gary Cooper) fall in love during the First World War in Italy. Eventually separated by Frederic&#x27;s transfer, tremendous challenges and difficult decisions face each, as the war rages on. Academy Awards winner for Best Cinematography and for Best Sound, Recording. Nominated for Best Picture and for Best Art Direction.</td>\n",
       "        <td>1.199451</td>\n",
       "        <td>25.0</td>\n",
       "        <td>89.0</td>\n",
       "        <td>Released</td>\n",
       "        <td>Every woman who has loved will understand</td>\n",
       "        <td>6.2</td>\n",
       "        <td>28</td>\n",
       "    </tr>\n",
       "    <tr>\n",
       "        <td>3062</td>\n",
       "        <td>42nd Street</td>\n",
       "        <td>1933-02-02 00:00:00.000000</td>\n",
       "        <td>439000</td>\n",
       "        <td>None</td>\n",
       "        <td>en</td>\n",
       "        <td>42nd Street</td>\n",
       "        <td>A producer puts on what may be his last Broadway show, and at the last moment a chorus girl has to replace the star.</td>\n",
       "        <td>1.933366</td>\n",
       "        <td>2281000.0</td>\n",
       "        <td>89.0</td>\n",
       "        <td>Released</td>\n",
       "        <td>None</td>\n",
       "        <td>6.1</td>\n",
       "        <td>37</td>\n",
       "    </tr>\n",
       "    <tr>\n",
       "        <td>43595</td>\n",
       "        <td>She Done Him Wrong</td>\n",
       "        <td>1933-02-09 00:00:00.000000</td>\n",
       "        <td>200000</td>\n",
       "        <td>None</td>\n",
       "        <td>en</td>\n",
       "        <td>She Done Him Wrong</td>\n",
       "        <td>&quot;New York singer and nightclub owner Lady Lou has more men friends than you can imagine. Unfortunately one of them is a vicious criminal who&#x27;s escaped and is on the way to see &quot;&quot;his&quot;&quot; girl, not realising she hasn&#x27;t exactly been faithful in his absence. Help is at hand in the form of young Captain Cummings a local temperance league leader though.&quot;</td>\n",
       "        <td>0.622752</td>\n",
       "        <td>2200000.0</td>\n",
       "        <td>66.0</td>\n",
       "        <td>Released</td>\n",
       "        <td>Mae West gives a &#x27;Hot Time&#x27; to the nation!</td>\n",
       "        <td>5.1</td>\n",
       "        <td>27</td>\n",
       "    </tr>\n",
       "    <tr>\n",
       "        <td>3078</td>\n",
       "        <td>It Happened One Night</td>\n",
       "        <td>1934-02-22 00:00:00.000000</td>\n",
       "        <td>325000</td>\n",
       "        <td>None</td>\n",
       "        <td>en</td>\n",
       "        <td>It Happened One Night</td>\n",
       "        <td>Ellie Andrews has just tied the knot with society aviator King Westley when she is whisked away to her father&#x27;s yacht and out of King&#x27;s clutches. Ellie jumps ship and eventually winds up on a bus headed back to her husband. Reluctantly she must accept the help of out-of- work reporter Peter Warne. Actually, Warne doesn&#x27;t give her any choice: either she sticks with him until he gets her back to her husband, or he&#x27;ll blow the whistle on Ellie to her father. Either way, Peter gets what he wants... a really juicy newspaper story!</td>\n",
       "        <td>11.871424</td>\n",
       "        <td>4500000.0</td>\n",
       "        <td>105.0</td>\n",
       "        <td>Released</td>\n",
       "        <td>TOGETHER... for the first time</td>\n",
       "        <td>7.7</td>\n",
       "        <td>275</td>\n",
       "    </tr>\n",
       "</table>"
      ],
      "text/plain": [
       "[(3059, 'Intolerance', '1916-09-04 00:00:00.000000', 385907, None, 'en', 'Intolerance', 'The story of a poor young woman, separated by prejudice from her husband and baby, is interwoven with tales of intolerance from throughout history.', 3.232447, 8394751.0, 197.0, 'Released', 'The Cruel Hand of Intolerance', 7.4, 60),\n",
       " (3060, 'The Big Parade', '1925-11-05 00:00:00.000000', 245000, None, 'en', 'The Big Parade', \"The story of an idle rich boy who joins the US Army's Rainbow Division and is sent to France to fight in World War I, becomes friends with two working class men, experiences the horrors of trench warfare, and finds love with a French girl.\", 0.785744, 22000000.0, 151.0, 'Released', None, 7.0, 21),\n",
       " (19, 'Metropolis', '1927-01-10 00:00:00.000000', 92620000, None, 'de', 'Metropolis', \"In a futuristic city sharply divided between the working class and the city planners, the son of the city's mastermind falls in love with a working class prophet who predicts the coming of a savior to mediate their differences.\", 32.351527, 650422.0, 153.0, 'Released', 'There can be no understanding between the hands and the brain unless the heart acts as mediator.', 8.0, 657),\n",
       " (905, \"Pandora's Box\", '1929-01-30 00:00:00.000000', 0, None, 'de', 'Die Bnchse der Pandora', 'The rise and inevitable fall of an amoral but naive young woman whose insouciant eroticism inspires lust and violence in those around her.', 1.824184, 0.0, 109.0, 'Released', None, 7.6, 45),\n",
       " (65203, 'The Broadway Melody', '1929-02-08 00:00:00.000000', 379000, None, 'en', 'The Broadway Melody', \"Harriet and Queenie Mahoney, a vaudeville act, come to Broadway, where their friend Eddie Kerns needs them for his number in one of Francis Zanfield' ... (195 characters truncated) ... eenie recognizes, that she is for Jock nothing more than a toy, and it also takes a while till Harriet recognizes, that Eddie is in love with Queenie\", 0.968865, 4358000.0, 100.0, 'Released', \"The pulsating drama of Broadway's bared heart speaks and sings with a voice to stir your soul!\", 5.0, 19),\n",
       " (22301, \"Hell's Angels\", '1930-11-15 00:00:00.000000', 3950000, None, 'en', \"Hell's Angels\", \"Two brothers attending Oxford enlist with the Royal Flying Corps when World War I breaks out. Roy and Monte Rutledge have very different personalitie ... (576 characters truncated) ... t a strategic German munitions facility is a booming success, but with a squadron of fighters bearing down on them afterwards, escape seems unlikely.\", 8.484123, 8000000.0, 127.0, 'Released', \"Howard Hughes' Thrilling Multi-Million Dollar Air Spectacle\", 6.1, 19),\n",
       " (22649, 'A Farewell to Arms', '1932-12-08 00:00:00.000000', 4, None, 'en', 'A Farewell to Arms', \"British nurse Catherine Barkley (Helen Hayes) and American Lieutenant Frederic Henry (Gary Cooper) fall in love during the First World War in Italy.  ... (105 characters truncated) ... the war rages on. Academy Awards winner for Best Cinematography and for Best Sound, Recording. Nominated for Best Picture and for Best Art Direction.\", 1.199451, 25.0, 89.0, 'Released', 'Every woman who has loved will understand', 6.2, 28),\n",
       " (3062, '42nd Street', '1933-02-02 00:00:00.000000', 439000, None, 'en', '42nd Street', 'A producer puts on what may be his last Broadway show, and at the last moment a chorus girl has to replace the star.', 1.933366, 2281000.0, 89.0, 'Released', None, 6.1, 37),\n",
       " (43595, 'She Done Him Wrong', '1933-02-09 00:00:00.000000', 200000, None, 'en', 'She Done Him Wrong', '\"New York singer and nightclub owner Lady Lou has more men friends than you can imagine. Unfortunately one of them is a vicious criminal who\\'s escap ... (52 characters truncated) ... ing she hasn\\'t exactly been faithful in his absence. Help is at hand in the form of young Captain Cummings a local temperance league leader though.\"', 0.622752, 2200000.0, 66.0, 'Released', \"Mae West gives a 'Hot Time' to the nation!\", 5.1, 27),\n",
       " (3078, 'It Happened One Night', '1934-02-22 00:00:00.000000', 325000, None, 'en', 'It Happened One Night', \"Ellie Andrews has just tied the knot with society aviator King Westley when she is whisked away to her father's yacht and out of King's clutches. Ell ... (233 characters truncated) ... ts her back to her husband, or he'll blow the whistle on Ellie to her father. Either way, Peter gets what he wants... a really juicy newspaper story!\", 11.871424, 4500000.0, 105.0, 'Released', 'TOGETHER... for the first time', 7.7, 275)]"
      ]
     },
     "execution_count": 32,
     "metadata": {},
     "output_type": "execute_result"
    }
   ],
   "source": [
    "%%sql\n",
    "---Add your code here\n",
    "SELECT * \n",
    "FROM movies \n",
    "WHERE release_date IS NOT NULL \n",
    "ORDER BY release_date ASC \n",
    "LIMIT 10"
   ]
  },
  {
   "cell_type": "markdown",
   "id": "79dc3d5f",
   "metadata": {},
   "source": [
    "### Question 3\n",
    "\n",
    "How many unique awards are there in the Oscars table?\n",
    "\n",
    "**Options:**\n",
    " - 141\n",
    " - 53 \n",
    " - 80\n",
    " - 114"
   ]
  },
  {
   "cell_type": "code",
   "execution_count": 36,
   "id": "f4621a53",
   "metadata": {},
   "outputs": [
    {
     "name": "stdout",
     "output_type": "stream",
     "text": [
      " * sqlite:///TMDB.db\n",
      "Done.\n"
     ]
    },
    {
     "data": {
      "text/html": [
       "<table>\n",
       "    <tr>\n",
       "        <th>tot_award</th>\n",
       "    </tr>\n",
       "    <tr>\n",
       "        <td>114</td>\n",
       "    </tr>\n",
       "</table>"
      ],
      "text/plain": [
       "[(114,)]"
      ]
     },
     "execution_count": 36,
     "metadata": {},
     "output_type": "execute_result"
    }
   ],
   "source": [
    "%%sql\n",
    "---Add your code here\n",
    "SELECT COUNT (DISTINCT award) AS tot_award\n",
    "FROM oscars;"
   ]
  },
  {
   "cell_type": "markdown",
   "id": "a8b06373",
   "metadata": {},
   "source": [
    "### Question 4\n",
    "\n",
    "How many movies are there that contain the word “Spider” within their title?\n",
    "\n",
    "**Options:**\n",
    " - 0\n",
    " - 5\n",
    " - 1\n",
    " - 9"
   ]
  },
  {
   "cell_type": "code",
   "execution_count": 38,
   "id": "1e003247",
   "metadata": {},
   "outputs": [
    {
     "name": "stdout",
     "output_type": "stream",
     "text": [
      " * sqlite:///TMDB.db\n",
      "Done.\n"
     ]
    },
    {
     "data": {
      "text/html": [
       "<table>\n",
       "    <tr>\n",
       "        <th>spider_movie_count</th>\n",
       "    </tr>\n",
       "    <tr>\n",
       "        <td>9</td>\n",
       "    </tr>\n",
       "</table>"
      ],
      "text/plain": [
       "[(9,)]"
      ]
     },
     "execution_count": 38,
     "metadata": {},
     "output_type": "execute_result"
    }
   ],
   "source": [
    "%%sql\n",
    "---Add your code here\n",
    "SELECT COUNT(*) AS spider_movie_count\n",
    "FROM movies\n",
    "WHERE title LIKE '%Spider%';"
   ]
  },
  {
   "cell_type": "markdown",
   "id": "2f77c5bd",
   "metadata": {},
   "source": [
    "### Question 5\n",
    "\n",
    "How many movies are there that are both in the \"Thriller\" genre and contain the word “love” anywhere in the keywords?\n",
    "\n",
    "\n",
    "**Options:**\n",
    " - 48\n",
    " - 38\n",
    " - 14\n",
    " - 1"
   ]
  },
  {
   "cell_type": "code",
   "execution_count": 51,
   "id": "4f80f374-e402-46d4-8a7d-c82e9bbec03f",
   "metadata": {},
   "outputs": [
    {
     "name": "stdout",
     "output_type": "stream",
     "text": [
      " * sqlite:///TMDB.db\n",
      "Done.\n"
     ]
    },
    {
     "data": {
      "text/html": [
       "<table>\n",
       "    <tr>\n",
       "        <th>thriller_love_movie_count</th>\n",
       "    </tr>\n",
       "    <tr>\n",
       "        <td>48</td>\n",
       "    </tr>\n",
       "</table>"
      ],
      "text/plain": [
       "[(48,)]"
      ]
     },
     "execution_count": 51,
     "metadata": {},
     "output_type": "execute_result"
    }
   ],
   "source": [
    "%%sql\n",
    "SELECT COUNT(DISTINCT m.movie_id) AS thriller_love_movie_count\n",
    "FROM movies m\n",
    "JOIN genremap gm ON m.movie_id = gm.movie_id\n",
    "JOIN genres g ON gm.genre_id = g.genre_id\n",
    "JOIN keywordmap km ON m.movie_id = km.movie_id\n",
    "JOIN keywords k ON km.keyword_id = k.keyword_id\n",
    "WHERE g.genre_name = 'Thriller'\n",
    "  AND k.keyword_name LIKE '%love%';"
   ]
  },
  {
   "cell_type": "code",
   "execution_count": 50,
   "id": "c202d85c-7678-47a8-84ec-111455403e7b",
   "metadata": {},
   "outputs": [
    {
     "name": "stdout",
     "output_type": "stream",
     "text": [
      " * sqlite:///TMDB.db\n",
      "Done.\n"
     ]
    },
    {
     "data": {
      "text/html": [
       "<table>\n",
       "    <tr>\n",
       "        <th>title</th>\n",
       "    </tr>\n",
       "    <tr>\n",
       "        <td>The Fifth Element</td>\n",
       "    </tr>\n",
       "    <tr>\n",
       "        <td>Amores perros</td>\n",
       "    </tr>\n",
       "    <tr>\n",
       "        <td>Match Point</td>\n",
       "    </tr>\n",
       "    <tr>\n",
       "        <td>The Good German</td>\n",
       "    </tr>\n",
       "    <tr>\n",
       "        <td>Underworld</td>\n",
       "    </tr>\n",
       "    <tr>\n",
       "        <td>True Romance</td>\n",
       "    </tr>\n",
       "    <tr>\n",
       "        <td>Insomnia</td>\n",
       "    </tr>\n",
       "    <tr>\n",
       "        <td>Titanic</td>\n",
       "    </tr>\n",
       "    <tr>\n",
       "        <td>Cruel Intentions</td>\n",
       "    </tr>\n",
       "    <tr>\n",
       "        <td>Pandora&#x27;s Box</td>\n",
       "    </tr>\n",
       "    <tr>\n",
       "        <td>Mission: Impossible II</td>\n",
       "    </tr>\n",
       "    <tr>\n",
       "        <td>Irreversible</td>\n",
       "    </tr>\n",
       "    <tr>\n",
       "        <td>The Talented Mr. Ripley</td>\n",
       "    </tr>\n",
       "    <tr>\n",
       "        <td>November</td>\n",
       "    </tr>\n",
       "    <tr>\n",
       "        <td>The Illusionist</td>\n",
       "    </tr>\n",
       "    <tr>\n",
       "        <td>The Island</td>\n",
       "    </tr>\n",
       "    <tr>\n",
       "        <td>A Mighty Heart</td>\n",
       "    </tr>\n",
       "    <tr>\n",
       "        <td>Original Sin</td>\n",
       "    </tr>\n",
       "    <tr>\n",
       "        <td>Unfaithful</td>\n",
       "    </tr>\n",
       "    <tr>\n",
       "        <td>The Bourne Identity</td>\n",
       "    </tr>\n",
       "    <tr>\n",
       "        <td>The Quiet American</td>\n",
       "    </tr>\n",
       "    <tr>\n",
       "        <td>Black Book</td>\n",
       "    </tr>\n",
       "    <tr>\n",
       "        <td>The Craft</td>\n",
       "    </tr>\n",
       "    <tr>\n",
       "        <td>Dante&#x27;s Peak</td>\n",
       "    </tr>\n",
       "    <tr>\n",
       "        <td>The Jacket</td>\n",
       "    </tr>\n",
       "    <tr>\n",
       "        <td>Road House</td>\n",
       "    </tr>\n",
       "    <tr>\n",
       "        <td>Dressed to Kill</td>\n",
       "    </tr>\n",
       "    <tr>\n",
       "        <td>Laws of Attraction</td>\n",
       "    </tr>\n",
       "    <tr>\n",
       "        <td>Wicker Park</td>\n",
       "    </tr>\n",
       "    <tr>\n",
       "        <td>The Count of Monte Cristo</td>\n",
       "    </tr>\n",
       "    <tr>\n",
       "        <td>Bullets Over Broadway</td>\n",
       "    </tr>\n",
       "    <tr>\n",
       "        <td>The Crying Game</td>\n",
       "    </tr>\n",
       "    <tr>\n",
       "        <td>High Crimes</td>\n",
       "    </tr>\n",
       "    <tr>\n",
       "        <td>Serial Mom</td>\n",
       "    </tr>\n",
       "    <tr>\n",
       "        <td>Proof of Life</td>\n",
       "    </tr>\n",
       "    <tr>\n",
       "        <td>Frailty</td>\n",
       "    </tr>\n",
       "    <tr>\n",
       "        <td>The Call of Cthulhu</td>\n",
       "    </tr>\n",
       "    <tr>\n",
       "        <td>Inception</td>\n",
       "    </tr>\n",
       "    <tr>\n",
       "        <td>Blood and Wine</td>\n",
       "    </tr>\n",
       "    <tr>\n",
       "        <td>The Roommate</td>\n",
       "    </tr>\n",
       "    <tr>\n",
       "        <td>Headhunters</td>\n",
       "    </tr>\n",
       "    <tr>\n",
       "        <td>Love Letters</td>\n",
       "    </tr>\n",
       "    <tr>\n",
       "        <td>Transcendence</td>\n",
       "    </tr>\n",
       "    <tr>\n",
       "        <td>Banshee Chapter</td>\n",
       "    </tr>\n",
       "    <tr>\n",
       "        <td>Slow West</td>\n",
       "    </tr>\n",
       "    <tr>\n",
       "        <td>The Boy Next Door</td>\n",
       "    </tr>\n",
       "    <tr>\n",
       "        <td>Red Sky</td>\n",
       "    </tr>\n",
       "    <tr>\n",
       "        <td>The Blue Room</td>\n",
       "    </tr>\n",
       "</table>"
      ],
      "text/plain": [
       "[('The Fifth Element',),\n",
       " ('Amores perros',),\n",
       " ('Match Point',),\n",
       " ('The Good German',),\n",
       " ('Underworld',),\n",
       " ('True Romance',),\n",
       " ('Insomnia',),\n",
       " ('Titanic',),\n",
       " ('Cruel Intentions',),\n",
       " (\"Pandora's Box\",),\n",
       " ('Mission: Impossible II',),\n",
       " ('Irreversible',),\n",
       " ('The Talented Mr. Ripley',),\n",
       " ('November',),\n",
       " ('The Illusionist',),\n",
       " ('The Island',),\n",
       " ('A Mighty Heart',),\n",
       " ('Original Sin',),\n",
       " ('Unfaithful',),\n",
       " ('The Bourne Identity',),\n",
       " ('The Quiet American',),\n",
       " ('Black Book',),\n",
       " ('The Craft',),\n",
       " (\"Dante's Peak\",),\n",
       " ('The Jacket',),\n",
       " ('Road House',),\n",
       " ('Dressed to Kill',),\n",
       " ('Laws of Attraction',),\n",
       " ('Wicker Park',),\n",
       " ('The Count of Monte Cristo',),\n",
       " ('Bullets Over Broadway',),\n",
       " ('The Crying Game',),\n",
       " ('High Crimes',),\n",
       " ('Serial Mom',),\n",
       " ('Proof of Life',),\n",
       " ('Frailty',),\n",
       " ('The Call of Cthulhu',),\n",
       " ('Inception',),\n",
       " ('Blood and Wine',),\n",
       " ('The Roommate',),\n",
       " ('Headhunters',),\n",
       " ('Love Letters',),\n",
       " ('Transcendence',),\n",
       " ('Banshee Chapter',),\n",
       " ('Slow West',),\n",
       " ('The Boy Next Door',),\n",
       " ('Red Sky',),\n",
       " ('The Blue Room',)]"
      ]
     },
     "execution_count": 50,
     "metadata": {},
     "output_type": "execute_result"
    }
   ],
   "source": [
    "%%sql\n",
    "SELECT DISTINCT m.title\n",
    "FROM movies m\n",
    "JOIN genremap gm ON m.movie_id = gm.movie_id\n",
    "JOIN genres g ON gm.genre_id = g.genre_id\n",
    "JOIN keywordmap km ON m.movie_id = km.movie_id\n",
    "JOIN keywords k ON km.keyword_id = k.keyword_id\n",
    "WHERE g.genre_name = 'Thriller'\n",
    "  AND k.keyword_name LIKE '%love%';"
   ]
  },
  {
   "cell_type": "markdown",
   "id": "8c6e82eb",
   "metadata": {},
   "source": [
    "### Question 6\n",
    "\n",
    "How many movies are there that were released between 1 August 2006 ('2006-08-01') and 1 October 2009 ('2009-10-01') that have a popularity score of more than 40 and a budget of less than 50 000 000?\n",
    "\n",
    " \n",
    "**Options:**\n",
    "\n",
    " - 29\n",
    " - 23\n",
    " - 28\n",
    " - 35"
   ]
  },
  {
   "cell_type": "code",
   "execution_count": 53,
   "id": "e8de6542",
   "metadata": {},
   "outputs": [
    {
     "name": "stdout",
     "output_type": "stream",
     "text": [
      " * sqlite:///TMDB.db\n",
      "Done.\n"
     ]
    },
    {
     "data": {
      "text/html": [
       "<table>\n",
       "    <tr>\n",
       "        <th>movie_count</th>\n",
       "    </tr>\n",
       "    <tr>\n",
       "        <td>29</td>\n",
       "    </tr>\n",
       "</table>"
      ],
      "text/plain": [
       "[(29,)]"
      ]
     },
     "execution_count": 53,
     "metadata": {},
     "output_type": "execute_result"
    }
   ],
   "source": [
    "%%sql\n",
    "---Add your code here\n",
    "SELECT COUNT(*) AS movie_count\n",
    "FROM movies\n",
    "WHERE release_date BETWEEN '2006-08-01' AND '2009-10-01'\n",
    "  AND popularity > 40\n",
    "  AND budget < 50000000;"
   ]
  },
  {
   "cell_type": "markdown",
   "id": "cf0d12b1",
   "metadata": {},
   "source": [
    "### Question 7\n",
    "\n",
    "How many unique characters has \"Vin Diesel\" played so far in the database?\n",
    "\n",
    "**Options:**\n",
    " - 24\n",
    " - 19\n",
    " - 18\n",
    " - 16"
   ]
  },
  {
   "cell_type": "code",
   "execution_count": 61,
   "id": "cc1eecb5",
   "metadata": {},
   "outputs": [
    {
     "name": "stdout",
     "output_type": "stream",
     "text": [
      " * sqlite:///TMDB.db\n",
      "Done.\n"
     ]
    },
    {
     "data": {
      "text/html": [
       "<table>\n",
       "    <tr>\n",
       "        <th>unique_characters</th>\n",
       "    </tr>\n",
       "    <tr>\n",
       "        <td>16</td>\n",
       "    </tr>\n",
       "</table>"
      ],
      "text/plain": [
       "[(16,)]"
      ]
     },
     "execution_count": 61,
     "metadata": {},
     "output_type": "execute_result"
    }
   ],
   "source": [
    "%%sql\n",
    "--Add your code here\n",
    "SELECT COUNT(DISTINCT characters) AS unique_characters\n",
    "FROM casts\n",
    "JOIN actors ON casts.actor_id = actors.actor_id\n",
    "WHERE actor_name = 'Vin Diesel';"
   ]
  },
  {
   "cell_type": "markdown",
   "id": "297fc8b8",
   "metadata": {},
   "source": [
    "### Question 8\n",
    "\n",
    "What are the genres of the movie “The Royal Tenenbaums”?\n",
    "\n",
    "\n",
    "**Options:**\n",
    " - Action, Romance\n",
    " - Drama, Comedy\n",
    " - Crime, Thriller\n",
    " - Drama, Romance"
   ]
  },
  {
   "cell_type": "code",
   "execution_count": 63,
   "id": "e2ad1e00",
   "metadata": {},
   "outputs": [
    {
     "name": "stdout",
     "output_type": "stream",
     "text": [
      " * sqlite:///TMDB.db\n",
      "Done.\n"
     ]
    },
    {
     "data": {
      "text/html": [
       "<table>\n",
       "    <tr>\n",
       "        <th>genre_name</th>\n",
       "    </tr>\n",
       "    <tr>\n",
       "        <td>Drama</td>\n",
       "    </tr>\n",
       "    <tr>\n",
       "        <td>Comedy</td>\n",
       "    </tr>\n",
       "</table>"
      ],
      "text/plain": [
       "[('Drama',), ('Comedy',)]"
      ]
     },
     "execution_count": 63,
     "metadata": {},
     "output_type": "execute_result"
    }
   ],
   "source": [
    "%%sql\n",
    "---Add your code here\n",
    "SELECT g.genre_name\n",
    "FROM movies m\n",
    "JOIN genremap gm ON m.movie_id = gm.movie_id\n",
    "JOIN genres g ON gm.genre_id = g.genre_id\n",
    "WHERE m.title = 'The Royal Tenenbaums';"
   ]
  },
  {
   "cell_type": "markdown",
   "id": "d3ed71a0",
   "metadata": {},
   "source": [
    "### Question 9\n",
    "\n",
    "What are the three production companies that have the highest movie popularity score on average, as recorded within the database?\n",
    "\n",
    "\n",
    "**Options:**\n",
    "\n",
    " - MCL Films S.A., Turner Pictures, and George Stevens Productions\n",
    " - The Donners' Company, Bulletproof Cupid, and Kinberg Genre\n",
    " - Bulletproof Cupid, The Donners' Company, and MCL Films S.A\n",
    " - B.Sting Entertainment, Illumination Pictures, and Aztec Musique"
   ]
  },
  {
   "cell_type": "code",
   "execution_count": 65,
   "id": "92d65440",
   "metadata": {},
   "outputs": [
    {
     "name": "stdout",
     "output_type": "stream",
     "text": [
      " * sqlite:///TMDB.db\n",
      "Done.\n"
     ]
    },
    {
     "data": {
      "text/html": [
       "<table>\n",
       "    <tr>\n",
       "        <th>production_company</th>\n",
       "        <th>avg_popularity</th>\n",
       "    </tr>\n",
       "    <tr>\n",
       "        <td>The Donners&#x27; Company</td>\n",
       "        <td>514.569956</td>\n",
       "    </tr>\n",
       "    <tr>\n",
       "        <td>Bulletproof Cupid</td>\n",
       "        <td>481.098624</td>\n",
       "    </tr>\n",
       "    <tr>\n",
       "        <td>Kinberg Genre</td>\n",
       "        <td>326.92099900000005</td>\n",
       "    </tr>\n",
       "</table>"
      ],
      "text/plain": [
       "[(\"The Donners' Company\", 514.569956),\n",
       " ('Bulletproof Cupid', 481.098624),\n",
       " ('Kinberg Genre', 326.92099900000005)]"
      ]
     },
     "execution_count": 65,
     "metadata": {},
     "output_type": "execute_result"
    }
   ],
   "source": [
    "%%sql\n",
    "--Add your code here\n",
    "SELECT pc.production_company_name AS production_company, AVG(m.popularity) AS avg_popularity\n",
    "FROM productioncompanies pc\n",
    "JOIN productioncompanymap pcm ON pc.production_company_id = pcm.production_company_id\n",
    "JOIN movies m ON pcm.movie_id = m.movie_id\n",
    "GROUP BY pc.production_company_name\n",
    "ORDER BY avg_popularity DESC\n",
    "LIMIT 3;"
   ]
  },
  {
   "cell_type": "markdown",
   "id": "d892dcac",
   "metadata": {},
   "source": [
    "### Question 10\n",
    "\n",
    "How many female actors (i.e. gender = 1) have a name that starts with the letter \"N\"?\n",
    "\n",
    "\n",
    "**Options:**\n",
    "\n",
    " - 0\n",
    " - 355\n",
    " - 7335\n",
    " - 1949"
   ]
  },
  {
   "cell_type": "code",
   "execution_count": 67,
   "id": "4bca2942",
   "metadata": {},
   "outputs": [
    {
     "name": "stdout",
     "output_type": "stream",
     "text": [
      " * sqlite:///TMDB.db\n",
      "Done.\n"
     ]
    },
    {
     "data": {
      "text/html": [
       "<table>\n",
       "    <tr>\n",
       "        <th>female_actors_starting_with_N</th>\n",
       "    </tr>\n",
       "    <tr>\n",
       "        <td>355</td>\n",
       "    </tr>\n",
       "</table>"
      ],
      "text/plain": [
       "[(355,)]"
      ]
     },
     "execution_count": 67,
     "metadata": {},
     "output_type": "execute_result"
    }
   ],
   "source": [
    "%%sql\n",
    "---Add your code here\n",
    "SELECT COUNT(*) AS female_actors_starting_with_N\n",
    "FROM actors\n",
    "WHERE gender = 1\n",
    "  AND actor_name LIKE 'N%';"
   ]
  },
  {
   "cell_type": "markdown",
   "id": "7ea65b50",
   "metadata": {},
   "source": [
    "### Question 11\n",
    "\n",
    "Which genre has, on average, the lowest movie popularity score? \n",
    "\n",
    "\n",
    "**Options:**\n",
    "\n",
    " - Science Fiction\n",
    " - Animation\n",
    " - Documentary\n",
    " - Foreign"
   ]
  },
  {
   "cell_type": "code",
   "execution_count": 68,
   "id": "e3a55c56",
   "metadata": {},
   "outputs": [
    {
     "name": "stdout",
     "output_type": "stream",
     "text": [
      " * sqlite:///TMDB.db\n",
      "Done.\n"
     ]
    },
    {
     "data": {
      "text/html": [
       "<table>\n",
       "    <tr>\n",
       "        <th>genre_name</th>\n",
       "        <th>avg_popularity</th>\n",
       "    </tr>\n",
       "    <tr>\n",
       "        <td>Foreign</td>\n",
       "        <td>0.686786794117647</td>\n",
       "    </tr>\n",
       "    <tr>\n",
       "        <td>Documentary</td>\n",
       "        <td>3.9457238090909095</td>\n",
       "    </tr>\n",
       "    <tr>\n",
       "        <td>TV Movie</td>\n",
       "        <td>6.389414749999999</td>\n",
       "    </tr>\n",
       "    <tr>\n",
       "        <td>Music</td>\n",
       "        <td>13.101512475675674</td>\n",
       "    </tr>\n",
       "    <tr>\n",
       "        <td>Romance</td>\n",
       "        <td>15.962426457494407</td>\n",
       "    </tr>\n",
       "</table>"
      ],
      "text/plain": [
       "[('Foreign', 0.686786794117647),\n",
       " ('Documentary', 3.9457238090909095),\n",
       " ('TV Movie', 6.389414749999999),\n",
       " ('Music', 13.101512475675674),\n",
       " ('Romance', 15.962426457494407)]"
      ]
     },
     "execution_count": 68,
     "metadata": {},
     "output_type": "execute_result"
    }
   ],
   "source": [
    "%%sql\n",
    "--Add your code here\n",
    "SELECT g.genre_name, AVG(m.popularity) AS avg_popularity\n",
    "FROM genres g\n",
    "JOIN genremap gm ON g.genre_id = gm.genre_id\n",
    "JOIN movies m ON gm.movie_id = m.movie_id\n",
    "GROUP BY g.genre_name\n",
    "ORDER BY avg_popularity ASC\n",
    "LIMIT 5;"
   ]
  },
  {
   "cell_type": "markdown",
   "id": "3769de93",
   "metadata": {},
   "source": [
    "### Question 12\n",
    "\n",
    "Which award category has the highest number of actor nominations (actors can be male or female)? (Hint: `Oscars.name` contains both actors' names and film names.)\n",
    "\n",
    "**Options:**\n",
    "\n",
    "- Special Achievement Award\n",
    "- Actor in a Supporting Role\n",
    "- Actress in a Supporting Role\n",
    "- Best Picture\n",
    "\n"
   ]
  },
  {
   "cell_type": "code",
   "execution_count": 71,
   "id": "e3943f72",
   "metadata": {},
   "outputs": [
    {
     "name": "stdout",
     "output_type": "stream",
     "text": [
      " * sqlite:///TMDB.db\n",
      "Done.\n"
     ]
    },
    {
     "data": {
      "text/html": [
       "<table>\n",
       "    <tr>\n",
       "        <th>name</th>\n",
       "        <th>award</th>\n",
       "        <th>nomination_count</th>\n",
       "    </tr>\n",
       "    <tr>\n",
       "        <td>Mischa Auer</td>\n",
       "        <td>Actor in a Supporting Role</td>\n",
       "        <td>400</td>\n",
       "    </tr>\n",
       "    <tr>\n",
       "        <td>Richard Barthelmess</td>\n",
       "        <td>Actor</td>\n",
       "        <td>232</td>\n",
       "    </tr>\n",
       "    <tr>\n",
       "        <td>Robert De Niro</td>\n",
       "        <td>Actor in a Leading Role</td>\n",
       "        <td>200</td>\n",
       "    </tr>\n",
       "</table>"
      ],
      "text/plain": [
       "[('Mischa Auer', 'Actor in a Supporting Role', 400),\n",
       " ('Richard Barthelmess', 'Actor', 232),\n",
       " ('Robert De Niro', 'Actor in a Leading Role', 200)]"
      ]
     },
     "execution_count": 71,
     "metadata": {},
     "output_type": "execute_result"
    }
   ],
   "source": [
    "%%sql\n",
    "--Add your code here\n",
    "SELECT name,award, COUNT(*) AS nomination_count\n",
    "FROM oscars\n",
    "WHERE award LIKE '%Actor%'\n",
    "GROUP BY award\n",
    "ORDER BY nomination_count DESC\n",
    "LIMIT 3;"
   ]
  },
  {
   "cell_type": "markdown",
   "id": "c80a7c0c",
   "metadata": {},
   "source": [
    "### Question 13\n",
    "\n",
    "For all of the entries in the Oscars table before 1934, the year is stored differently than in all the subsequent years. For example, the year would be saved as “1932/1933” instead of just “1933” (the second indicated year).  Which of the following options would be the appropriate code to update this column to have the format of the year be consistent throughout the entire table (second indicated year only shown)?\n",
    "\n",
    "\n",
    "**Options:**\n",
    "\n",
    "- `UPDATE Oscars SET year = RIGHT(year, -4)`\n",
    "- `UPDATE Oscars SET year = SELECT substr(year, -4)`\n",
    "- `UPDATE Oscars SET year = substr(year, -4)`\n",
    "- `UPDATE Oscars year =  substr(year, 4)`"
   ]
  },
  {
   "cell_type": "code",
   "execution_count": 72,
   "id": "6220bb09",
   "metadata": {},
   "outputs": [
    {
     "name": "stdout",
     "output_type": "stream",
     "text": [
      " * sqlite:///TMDB.db\n",
      "9964 rows affected.\n"
     ]
    },
    {
     "data": {
      "text/plain": [
       "[]"
      ]
     },
     "execution_count": 72,
     "metadata": {},
     "output_type": "execute_result"
    }
   ],
   "source": [
    "%%sql\n",
    "---Add your code here\n",
    "UPDATE Oscars SET year = substr(year, -4);"
   ]
  },
  {
   "cell_type": "markdown",
   "id": "a7d73885",
   "metadata": {},
   "source": [
    "### Question 14\n",
    "\n",
    "DStv will be having a special week dedicated to the actor Alan Rickman. Which of the following queries would create a new _view_ that shows the titles, release dates, taglines, and overviews of all movies that Alan Rickman has played in?\n",
    "\n",
    "\n",
    "\n",
    "**Options:**\n",
    "\n",
    "- SELECT title, release_date, tagline, overview \n",
    "FROM Movies LEFT JOIN Casts ON Casts.movie_id = Movies.movie_id Left JOIN Actors ON Casts.actor_id = Actors.actor_id \n",
    "WHERE Actors.actor_name = 'Alan Rickman'\n",
    "AS VIEW Alan_Rickman_Movies\n",
    "\n",
    "- CREATE VIEW Alan_Rickman_Movies AS  \n",
    "SELECT title, release_date, tagline, overview FROM Movies  \n",
    "LEFT JOIN Casts ON Casts.movie_id = Movies.movie_id Left JOIN Actors\n",
    "ON Casts.actor_id = Actors.actor_id\n",
    "WHERE Actors.actor_name = 'Alan Rickman' \n",
    "\n",
    "\n",
    "- CREATE NEW VIEW  Name  = Alan_Rickman_Movies AS SELECT title, release_date, tagline, overview FROM Movies LEFT JOIN Casts ON Casts.movie_id = Movies.movie_id Left JOIN Actors ON Casts.actor_id = Actors.actor_id WHERE Actors.actor_name = 'Alan Rickman'\n",
    "\n",
    "- VIEW Alan_Rickman_Movies AS SELECT title, release_date, tagline, overview FROM Movies LEFT JOIN Casts ON Casts.movie_id = Movies.movie_id Left JOIN Actors ON Casts.actor_id = Actors.actor_id WHERE Actors.actor_name = 'Alan Rickman'"
   ]
  },
  {
   "cell_type": "code",
   "execution_count": 75,
   "id": "f9b82bc6",
   "metadata": {},
   "outputs": [
    {
     "name": "stdout",
     "output_type": "stream",
     "text": [
      " * sqlite:///TMDB.db\n",
      "Done.\n",
      "Done.\n"
     ]
    },
    {
     "data": {
      "text/plain": [
       "[]"
      ]
     },
     "execution_count": 75,
     "metadata": {},
     "output_type": "execute_result"
    }
   ],
   "source": [
    "%%sql\n",
    "--Add your code here\n",
    "DROP VIEW IF EXISTS Alan_Rickman_Movies;\n",
    "CREATE VIEW Alan_Rickman_Movies AS\n",
    "SELECT title, release_date, tagline, overview FROM Movies\n",
    "LEFT JOIN Casts ON Casts.movie_id = Movies.movie_id Left JOIN Actors ON Casts.actor_id = Actors.actor_id WHERE Actors.actor_name = 'Alan Rickman'"
   ]
  },
  {
   "cell_type": "markdown",
   "id": "42e9915e",
   "metadata": {},
   "source": [
    "### Question 15\n",
    "\n",
    "Which of the statements about database normalisation are true?\n",
    "\n",
    "**Statements:**\n",
    " \n",
    "i) Database normalisation improves data redundancy, saves on storage space, and fulfils the requirement of records to be uniquely identified.\n",
    "\n",
    "ii) Database normalisation supports up to the Third Normal Form and removes all data anomalies.\n",
    "\n",
    "iii) Database normalisation removes inconsistencies that may cause the analysis of our data to be more complicated.\n",
    "\n",
    "iv) Database normalisation increases data redundancy, saves on storage space, and fulfils the requirement of records to be uniquely identified.\n",
    "\n",
    "**Options:**\n",
    "\n",
    " - (i) and (ii)\n",
    " - (i) and (iii)\n",
    " - (ii) and (iv)\n",
    " - (iii) and (iv)"
   ]
  },
  {
   "cell_type": "markdown",
   "id": "26fd094b-0fee-46f1-a4b8-73766813c42b",
   "metadata": {
    "tags": []
   },
   "source": [
    "#  \n",
    "\n",
    "<div align=\"center\" style=\" font-size: 80%; text-align: center; margin: 0 auto\">\n",
    "<img src=\"https://raw.githubusercontent.com/Explore-AI/Pictures/refs/heads/master/ALX_banners/ALX_Navy.png\"  style=\"width:100px\"  ;/>\n",
    "</div>"
   ]
  }
 ],
 "metadata": {
  "kernelspec": {
   "display_name": "Python 3 (ipykernel)",
   "language": "python",
   "name": "python3"
  },
  "language_info": {
   "codemirror_mode": {
    "name": "ipython",
    "version": 3
   },
   "file_extension": ".py",
   "mimetype": "text/x-python",
   "name": "python",
   "nbconvert_exporter": "python",
   "pygments_lexer": "ipython3",
   "version": "3.12.7"
  }
 },
 "nbformat": 4,
 "nbformat_minor": 5
}
